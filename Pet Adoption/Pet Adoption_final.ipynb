{
 "cells": [
  {
   "cell_type": "markdown",
   "metadata": {},
   "source": [
    "# Pet Adoption\n",
    "### Build a Machine Learning model that determines type and breed of the animal based on its physical atrributes and other factors"
   ]
  },
  {
   "cell_type": "markdown",
   "metadata": {},
   "source": [
    "It is a multioutput multiclassification or multitask classification problem. You have to predict two labels: 'breed_catagory' and 'pet_catagory'.The evaluation metric is being used is(the average of both f1_scores * 100)\n",
    "\n",
    "The best solution I got by implemeting is to train two models instead of using a single model which predicts the multi task calssification.\n",
    "- Build one classification model and predict the output.\n",
    "- Use the predicted output of 1st model as input feature to 2nd model."
   ]
  },
  {
   "cell_type": "markdown",
   "metadata": {},
   "source": [
    "## Import Packages"
   ]
  },
  {
   "cell_type": "code",
   "execution_count": 1,
   "metadata": {},
   "outputs": [],
   "source": [
    "import pandas as pd\n",
    "import numpy as np\n",
    "import matplotlib.pyplot as plt\n",
    "import seaborn as sns\n",
    "%matplotlib inline\n",
    "\n",
    "# Model libraries\n",
    "import xgboost as xgb\n",
    "\n",
    "\n",
    "#Other Libraries\n",
    "from sklearn.pipeline import Pipeline\n",
    "from sklearn.preprocessing import StandardScaler, OneHotEncoder, RobustScaler,MinMaxScaler\n",
    "from feature_engine import categorical_encoders as ce\n",
    "from sklearn.metrics import f1_score\n",
    "import datetime as dt"
   ]
  },
  {
   "cell_type": "markdown",
   "metadata": {},
   "source": [
    "## Exploring the data "
   ]
  },
  {
   "cell_type": "code",
   "execution_count": 2,
   "metadata": {},
   "outputs": [
    {
     "name": "stdout",
     "output_type": "stream",
     "text": [
      "(18834, 11)\n"
     ]
    },
    {
     "data": {
      "text/html": [
       "<div>\n",
       "<style scoped>\n",
       "    .dataframe tbody tr th:only-of-type {\n",
       "        vertical-align: middle;\n",
       "    }\n",
       "\n",
       "    .dataframe tbody tr th {\n",
       "        vertical-align: top;\n",
       "    }\n",
       "\n",
       "    .dataframe thead th {\n",
       "        text-align: right;\n",
       "    }\n",
       "</style>\n",
       "<table border=\"1\" class=\"dataframe\">\n",
       "  <thead>\n",
       "    <tr style=\"text-align: right;\">\n",
       "      <th></th>\n",
       "      <th>pet_id</th>\n",
       "      <th>issue_date</th>\n",
       "      <th>listing_date</th>\n",
       "      <th>condition</th>\n",
       "      <th>color_type</th>\n",
       "      <th>length(m)</th>\n",
       "      <th>height(cm)</th>\n",
       "      <th>X1</th>\n",
       "      <th>X2</th>\n",
       "      <th>breed_category</th>\n",
       "      <th>pet_category</th>\n",
       "    </tr>\n",
       "  </thead>\n",
       "  <tbody>\n",
       "    <tr>\n",
       "      <th>0</th>\n",
       "      <td>ANSL_69903</td>\n",
       "      <td>2016-07-10 00:00:00</td>\n",
       "      <td>2016-09-21 16:25:00</td>\n",
       "      <td>2.0</td>\n",
       "      <td>Brown Tabby</td>\n",
       "      <td>0.80</td>\n",
       "      <td>7.78</td>\n",
       "      <td>13</td>\n",
       "      <td>9</td>\n",
       "      <td>0.0</td>\n",
       "      <td>1</td>\n",
       "    </tr>\n",
       "    <tr>\n",
       "      <th>1</th>\n",
       "      <td>ANSL_66892</td>\n",
       "      <td>2013-11-21 00:00:00</td>\n",
       "      <td>2018-12-27 17:47:00</td>\n",
       "      <td>1.0</td>\n",
       "      <td>White</td>\n",
       "      <td>0.72</td>\n",
       "      <td>14.19</td>\n",
       "      <td>13</td>\n",
       "      <td>9</td>\n",
       "      <td>0.0</td>\n",
       "      <td>2</td>\n",
       "    </tr>\n",
       "    <tr>\n",
       "      <th>2</th>\n",
       "      <td>ANSL_69750</td>\n",
       "      <td>2014-09-28 00:00:00</td>\n",
       "      <td>2016-10-19 08:24:00</td>\n",
       "      <td>NaN</td>\n",
       "      <td>Brown</td>\n",
       "      <td>0.15</td>\n",
       "      <td>40.90</td>\n",
       "      <td>15</td>\n",
       "      <td>4</td>\n",
       "      <td>2.0</td>\n",
       "      <td>4</td>\n",
       "    </tr>\n",
       "    <tr>\n",
       "      <th>3</th>\n",
       "      <td>ANSL_71623</td>\n",
       "      <td>2016-12-31 00:00:00</td>\n",
       "      <td>2019-01-25 18:30:00</td>\n",
       "      <td>1.0</td>\n",
       "      <td>White</td>\n",
       "      <td>0.62</td>\n",
       "      <td>17.82</td>\n",
       "      <td>0</td>\n",
       "      <td>1</td>\n",
       "      <td>0.0</td>\n",
       "      <td>2</td>\n",
       "    </tr>\n",
       "    <tr>\n",
       "      <th>4</th>\n",
       "      <td>ANSL_57969</td>\n",
       "      <td>2017-09-28 00:00:00</td>\n",
       "      <td>2017-11-19 09:38:00</td>\n",
       "      <td>2.0</td>\n",
       "      <td>Black</td>\n",
       "      <td>0.50</td>\n",
       "      <td>11.06</td>\n",
       "      <td>18</td>\n",
       "      <td>4</td>\n",
       "      <td>0.0</td>\n",
       "      <td>1</td>\n",
       "    </tr>\n",
       "  </tbody>\n",
       "</table>\n",
       "</div>"
      ],
      "text/plain": [
       "       pet_id           issue_date         listing_date  condition  \\\n",
       "0  ANSL_69903  2016-07-10 00:00:00  2016-09-21 16:25:00        2.0   \n",
       "1  ANSL_66892  2013-11-21 00:00:00  2018-12-27 17:47:00        1.0   \n",
       "2  ANSL_69750  2014-09-28 00:00:00  2016-10-19 08:24:00        NaN   \n",
       "3  ANSL_71623  2016-12-31 00:00:00  2019-01-25 18:30:00        1.0   \n",
       "4  ANSL_57969  2017-09-28 00:00:00  2017-11-19 09:38:00        2.0   \n",
       "\n",
       "    color_type  length(m)  height(cm)  X1  X2  breed_category  pet_category  \n",
       "0  Brown Tabby       0.80        7.78  13   9             0.0             1  \n",
       "1        White       0.72       14.19  13   9             0.0             2  \n",
       "2        Brown       0.15       40.90  15   4             2.0             4  \n",
       "3        White       0.62       17.82   0   1             0.0             2  \n",
       "4        Black       0.50       11.06  18   4             0.0             1  "
      ]
     },
     "execution_count": 2,
     "metadata": {},
     "output_type": "execute_result"
    }
   ],
   "source": [
    "train = pd.read_csv('https://raw.githubusercontent.com/VijayMukkala/Mini-Projects/master/Pet%20Adoption/train.csv')\n",
    "test = pd.read_csv('https://raw.githubusercontent.com/VijayMukkala/Mini-Projects/master/Pet%20Adoption/test.csv')\n",
    "print(train.shape)\n",
    "train.head()"
   ]
  },
  {
   "cell_type": "markdown",
   "metadata": {},
   "source": [
    "### Column Description in detail\n",
    "- 'issue_date' : Date on which the pet was issues to the shelter\n",
    "- 'listing_date' : Date when the pet arrived at the shelter\n",
    "- 'condition' : Condition of the pet\n",
    "- 'color_type' : color of the pet\n",
    "- 'length(m)' : Length of the pet(in meter)\n",
    "- 'height(cm)' : Height of the pet (in cm)\n",
    "- 'breed_category' : Breed Category of the pet\n",
    "- 'pet_category' : Category of the pet"
   ]
  },
  {
   "cell_type": "code",
   "execution_count": 3,
   "metadata": {},
   "outputs": [
    {
     "name": "stdout",
     "output_type": "stream",
     "text": [
      "<class 'pandas.core.frame.DataFrame'>\n",
      "RangeIndex: 18834 entries, 0 to 18833\n",
      "Data columns (total 11 columns):\n",
      " #   Column          Non-Null Count  Dtype  \n",
      "---  ------          --------------  -----  \n",
      " 0   pet_id          18834 non-null  object \n",
      " 1   issue_date      18834 non-null  object \n",
      " 2   listing_date    18834 non-null  object \n",
      " 3   condition       17357 non-null  float64\n",
      " 4   color_type      18834 non-null  object \n",
      " 5   length(m)       18834 non-null  float64\n",
      " 6   height(cm)      18834 non-null  float64\n",
      " 7   X1              18834 non-null  int64  \n",
      " 8   X2              18834 non-null  int64  \n",
      " 9   breed_category  18834 non-null  float64\n",
      " 10  pet_category    18834 non-null  int64  \n",
      "dtypes: float64(4), int64(3), object(4)\n",
      "memory usage: 1.6+ MB\n"
     ]
    }
   ],
   "source": [
    "train.info()"
   ]
  },
  {
   "cell_type": "code",
   "execution_count": 4,
   "metadata": {},
   "outputs": [
    {
     "data": {
      "text/html": [
       "<div>\n",
       "<style scoped>\n",
       "    .dataframe tbody tr th:only-of-type {\n",
       "        vertical-align: middle;\n",
       "    }\n",
       "\n",
       "    .dataframe tbody tr th {\n",
       "        vertical-align: top;\n",
       "    }\n",
       "\n",
       "    .dataframe thead th {\n",
       "        text-align: right;\n",
       "    }\n",
       "</style>\n",
       "<table border=\"1\" class=\"dataframe\">\n",
       "  <thead>\n",
       "    <tr style=\"text-align: right;\">\n",
       "      <th></th>\n",
       "      <th>condition</th>\n",
       "      <th>length(m)</th>\n",
       "      <th>height(cm)</th>\n",
       "      <th>X1</th>\n",
       "      <th>X2</th>\n",
       "      <th>breed_category</th>\n",
       "      <th>pet_category</th>\n",
       "    </tr>\n",
       "  </thead>\n",
       "  <tbody>\n",
       "    <tr>\n",
       "      <th>count</th>\n",
       "      <td>17357.000000</td>\n",
       "      <td>18834.000000</td>\n",
       "      <td>18834.000000</td>\n",
       "      <td>18834.000000</td>\n",
       "      <td>18834.000000</td>\n",
       "      <td>18834.000000</td>\n",
       "      <td>18834.000000</td>\n",
       "    </tr>\n",
       "    <tr>\n",
       "      <th>mean</th>\n",
       "      <td>0.883390</td>\n",
       "      <td>0.502636</td>\n",
       "      <td>27.448832</td>\n",
       "      <td>5.369598</td>\n",
       "      <td>4.577307</td>\n",
       "      <td>0.600563</td>\n",
       "      <td>1.709143</td>\n",
       "    </tr>\n",
       "    <tr>\n",
       "      <th>std</th>\n",
       "      <td>0.770434</td>\n",
       "      <td>0.288705</td>\n",
       "      <td>13.019781</td>\n",
       "      <td>6.572366</td>\n",
       "      <td>3.517763</td>\n",
       "      <td>0.629883</td>\n",
       "      <td>0.717919</td>\n",
       "    </tr>\n",
       "    <tr>\n",
       "      <th>min</th>\n",
       "      <td>0.000000</td>\n",
       "      <td>0.000000</td>\n",
       "      <td>5.000000</td>\n",
       "      <td>0.000000</td>\n",
       "      <td>0.000000</td>\n",
       "      <td>0.000000</td>\n",
       "      <td>0.000000</td>\n",
       "    </tr>\n",
       "    <tr>\n",
       "      <th>25%</th>\n",
       "      <td>0.000000</td>\n",
       "      <td>0.250000</td>\n",
       "      <td>16.172500</td>\n",
       "      <td>0.000000</td>\n",
       "      <td>1.000000</td>\n",
       "      <td>0.000000</td>\n",
       "      <td>1.000000</td>\n",
       "    </tr>\n",
       "    <tr>\n",
       "      <th>50%</th>\n",
       "      <td>1.000000</td>\n",
       "      <td>0.500000</td>\n",
       "      <td>27.340000</td>\n",
       "      <td>0.000000</td>\n",
       "      <td>4.000000</td>\n",
       "      <td>1.000000</td>\n",
       "      <td>2.000000</td>\n",
       "    </tr>\n",
       "    <tr>\n",
       "      <th>75%</th>\n",
       "      <td>1.000000</td>\n",
       "      <td>0.760000</td>\n",
       "      <td>38.890000</td>\n",
       "      <td>13.000000</td>\n",
       "      <td>9.000000</td>\n",
       "      <td>1.000000</td>\n",
       "      <td>2.000000</td>\n",
       "    </tr>\n",
       "    <tr>\n",
       "      <th>max</th>\n",
       "      <td>2.000000</td>\n",
       "      <td>1.000000</td>\n",
       "      <td>50.000000</td>\n",
       "      <td>19.000000</td>\n",
       "      <td>9.000000</td>\n",
       "      <td>2.000000</td>\n",
       "      <td>4.000000</td>\n",
       "    </tr>\n",
       "  </tbody>\n",
       "</table>\n",
       "</div>"
      ],
      "text/plain": [
       "          condition     length(m)    height(cm)            X1            X2  \\\n",
       "count  17357.000000  18834.000000  18834.000000  18834.000000  18834.000000   \n",
       "mean       0.883390      0.502636     27.448832      5.369598      4.577307   \n",
       "std        0.770434      0.288705     13.019781      6.572366      3.517763   \n",
       "min        0.000000      0.000000      5.000000      0.000000      0.000000   \n",
       "25%        0.000000      0.250000     16.172500      0.000000      1.000000   \n",
       "50%        1.000000      0.500000     27.340000      0.000000      4.000000   \n",
       "75%        1.000000      0.760000     38.890000     13.000000      9.000000   \n",
       "max        2.000000      1.000000     50.000000     19.000000      9.000000   \n",
       "\n",
       "       breed_category  pet_category  \n",
       "count    18834.000000  18834.000000  \n",
       "mean         0.600563      1.709143  \n",
       "std          0.629883      0.717919  \n",
       "min          0.000000      0.000000  \n",
       "25%          0.000000      1.000000  \n",
       "50%          1.000000      2.000000  \n",
       "75%          1.000000      2.000000  \n",
       "max          2.000000      4.000000  "
      ]
     },
     "execution_count": 4,
     "metadata": {},
     "output_type": "execute_result"
    }
   ],
   "source": [
    "train.describe()"
   ]
  },
  {
   "cell_type": "code",
   "execution_count": 5,
   "metadata": {},
   "outputs": [
    {
     "data": {
      "image/png": "[encoded data removed]",
      "text/plain": [
       "<Figure size 864x288 with 2 Axes>"
      ]
     },
     "metadata": {
      "needs_background": "light"
     },
     "output_type": "display_data"
    }
   ],
   "source": [
    "f, axes = plt.subplots(ncols=2, figsize=(12,4))\n",
    "sns.countplot(train['pet_category'],ax=axes[0])\n",
    "sns.countplot(train['condition'],ax=axes[1])\n",
    "plt.show()"
   ]
  },
  {
   "cell_type": "markdown",
   "metadata": {},
   "source": [
    "From the distribution of pet_category , we can see that the feature is imbalanced. We can apply undersampling or oversampling techniques or using bagging hyperparameters"
   ]
  },
  {
   "cell_type": "markdown",
   "metadata": {},
   "source": [
    "### Checking for missing values in the data "
   ]
  },
  {
   "cell_type": "code",
   "execution_count": 6,
   "metadata": {},
   "outputs": [
    {
     "name": "stdout",
     "output_type": "stream",
     "text": [
      "pet_id               0\n",
      "issue_date           0\n",
      "listing_date         0\n",
      "condition         1477\n",
      "color_type           0\n",
      "length(m)            0\n",
      "height(cm)           0\n",
      "X1                   0\n",
      "X2                   0\n",
      "breed_category       0\n",
      "pet_category         0\n",
      "dtype: int64\n",
      "pet_id            0\n",
      "issue_date        0\n",
      "listing_date      0\n",
      "condition       619\n",
      "color_type        0\n",
      "length(m)         0\n",
      "height(cm)        0\n",
      "X1                0\n",
      "X2                0\n",
      "dtype: int64\n"
     ]
    }
   ],
   "source": [
    "print(train.isnull().sum())\n",
    "print(test.isnull().sum())"
   ]
  },
  {
   "cell_type": "markdown",
   "metadata": {},
   "source": [
    "__condition__ column has missing values both in train and test."
   ]
  },
  {
   "cell_type": "markdown",
   "metadata": {},
   "source": [
    "#### Missing Values imputation\n",
    "\n",
    "Replace missing value with 99 and check for the pattern"
   ]
  },
  {
   "cell_type": "code",
   "execution_count": 7,
   "metadata": {},
   "outputs": [
    {
     "name": "stdout",
     "output_type": "stream",
     "text": [
      "1.0     6819\n",
      "0.0     6281\n",
      "2.0     4257\n",
      "99.0    1477\n",
      "Name: condition, dtype: int64\n"
     ]
    }
   ],
   "source": [
    "train['condition'].fillna(99,inplace = True)\n",
    "print(train['condition'].value_counts())"
   ]
  },
  {
   "cell_type": "code",
   "execution_count": 8,
   "metadata": {},
   "outputs": [
    {
     "data": {
      "text/plain": [
       "condition  pet_category\n",
       "0.0        1               2376\n",
       "           2               3875\n",
       "           4                 30\n",
       "1.0        1               2218\n",
       "           2               4576\n",
       "           4                 25\n",
       "2.0        0                 37\n",
       "           1               2007\n",
       "           2               2110\n",
       "           4                103\n",
       "99.0       0                 51\n",
       "           1                583\n",
       "           2                 60\n",
       "           4                783\n",
       "dtype: int64"
      ]
     },
     "execution_count": 8,
     "metadata": {},
     "output_type": "execute_result"
    }
   ],
   "source": [
    "train.groupby(['condition','pet_category']).size()"
   ]
  },
  {
   "cell_type": "code",
   "execution_count": 9,
   "metadata": {},
   "outputs": [
    {
     "data": {
      "text/plain": [
       "condition  breed_category\n",
       "0.0        1.0               6281\n",
       "1.0        0.0               6819\n",
       "2.0        0.0               2181\n",
       "           1.0               2076\n",
       "99.0       2.0               1477\n",
       "dtype: int64"
      ]
     },
     "execution_count": 9,
     "metadata": {},
     "output_type": "execute_result"
    }
   ],
   "source": [
    "train.groupby(['condition','breed_category']).size()"
   ]
  },
  {
   "cell_type": "markdown",
   "metadata": {},
   "source": [
    "Looks like all the missing values belong to Breed_category 2 and we hit a jackpot"
   ]
  },
  {
   "cell_type": "markdown",
   "metadata": {},
   "source": [
    "## Feature Engineering"
   ]
  },
  {
   "cell_type": "markdown",
   "metadata": {},
   "source": [
    "### New feature creation from alphanumeric col pet_id"
   ]
  },
  {
   "cell_type": "code",
   "execution_count": 10,
   "metadata": {},
   "outputs": [],
   "source": [
    "train['nf1_pet_id'] = train['pet_id'].str[:6]\n",
    "train['nf2_pet_id'] = train['pet_id'].str[:7]"
   ]
  },
  {
   "cell_type": "code",
   "execution_count": 13,
   "metadata": {},
   "outputs": [
    {
     "name": "stdout",
     "output_type": "stream",
     "text": [
      "4\n",
      "ANSL_6    7005\n",
      "ANSL_5    6999\n",
      "ANSL_7    4813\n",
      "ANSL_4      17\n",
      "Name: nf1_pet_id, dtype: int64\n"
     ]
    },
    {
     "data": {
      "text/plain": [
       "<matplotlib.axes._subplots.AxesSubplot at 0x145c7e08>"
      ]
     },
     "execution_count": 13,
     "metadata": {},
     "output_type": "execute_result"
    },
    {
     "data": {
      "image/png": "[encoded data removed]",
      "text/plain": [
       "<Figure size 432x288 with 1 Axes>"
      ]
     },
     "metadata": {
      "needs_background": "light"
     },
     "output_type": "display_data"
    }
   ],
   "source": [
    "print(train.nf1_pet_id.nunique())\n",
    "print(train.nf1_pet_id.value_counts())\n",
    "sns.countplot(train['nf1_pet_id'])"
   ]
  },
  {
   "cell_type": "code",
   "execution_count": 12,
   "metadata": {},
   "outputs": [
    {
     "name": "stdout",
     "output_type": "stream",
     "text": [
      "28\n",
      "ANSL_61    739\n",
      "ANSL_70    715\n",
      "ANSL_52    714\n",
      "ANSL_60    714\n",
      "ANSL_55    712\n",
      "ANSL_59    708\n",
      "ANSL_73    708\n",
      "ANSL_58    708\n",
      "ANSL_72    705\n",
      "ANSL_62    703\n",
      "ANSL_67    702\n",
      "ANSL_51    702\n",
      "ANSL_56    700\n",
      "ANSL_63    700\n",
      "ANSL_64    699\n",
      "ANSL_75    699\n",
      "ANSL_57    699\n",
      "ANSL_54    699\n",
      "ANSL_66    695\n",
      "ANSL_65    692\n",
      "ANSL_68    691\n",
      "ANSL_50    689\n",
      "ANSL_74    682\n",
      "ANSL_71    677\n",
      "ANSL_69    670\n",
      "ANSL_53    668\n",
      "ANSL_76    627\n",
      "ANSL_49     17\n",
      "Name: nf2_pet_id, dtype: int64\n"
     ]
    }
   ],
   "source": [
    "print(train.nf2_pet_id.nunique())\n",
    "print(train.nf2_pet_id.value_counts())"
   ]
  },
  {
   "cell_type": "markdown",
   "metadata": {},
   "source": [
    "### Creating multiple features using date features: issue_date & listing date"
   ]
  },
  {
   "cell_type": "code",
   "execution_count": 14,
   "metadata": {},
   "outputs": [],
   "source": [
    "# New feature(Waiting time in Months) to find the difference between the issue date and the listing date \n",
    "\n",
    "train['issue_date'] = pd.to_datetime(train['issue_date']).apply(lambda x: x.date()) # removing the time values from the string columns\n",
    "train['listing_date'] = pd.to_datetime(train['listing_date']).apply(lambda x: x.date()) # removing the time values from the string columns\n",
    "train['Waiting_time(M)'] = (train['listing_date']- train['issue_date'])/np.timedelta64(1,'M') # difference of listing_date and issue_date in months\n",
    "train['Waiting_time(M)'] = np.round(train['Waiting_time(M)'],2) # rounding of the value to 2 decimals\n"
   ]
  },
  {
   "cell_type": "code",
   "execution_count": 15,
   "metadata": {},
   "outputs": [],
   "source": [
    "# Also creating new features from the issue date and listing date by converting their format into months\n",
    "train['issue_date'] = pd.to_datetime(train['issue_date'])\n",
    "train['issue_dt_month'] = train['issue_date'].dt.month \n",
    "train['listing_date'] = pd.to_datetime(train['listing_date'])\n",
    "train['listing_dt_month'] = train['listing_date'].dt.month"
   ]
  },
  {
   "cell_type": "markdown",
   "metadata": {},
   "source": [
    "#### Anomaly detection in the date features"
   ]
  },
  {
   "cell_type": "code",
   "execution_count": 16,
   "metadata": {},
   "outputs": [
    {
     "data": {
      "text/html": [
       "<div>\n",
       "<style scoped>\n",
       "    .dataframe tbody tr th:only-of-type {\n",
       "        vertical-align: middle;\n",
       "    }\n",
       "\n",
       "    .dataframe tbody tr th {\n",
       "        vertical-align: top;\n",
       "    }\n",
       "\n",
       "    .dataframe thead th {\n",
       "        text-align: right;\n",
       "    }\n",
       "</style>\n",
       "<table border=\"1\" class=\"dataframe\">\n",
       "  <thead>\n",
       "    <tr style=\"text-align: right;\">\n",
       "      <th></th>\n",
       "      <th>pet_id</th>\n",
       "      <th>issue_date</th>\n",
       "      <th>listing_date</th>\n",
       "      <th>condition</th>\n",
       "      <th>color_type</th>\n",
       "      <th>length(m)</th>\n",
       "      <th>height(cm)</th>\n",
       "      <th>X1</th>\n",
       "      <th>X2</th>\n",
       "      <th>breed_category</th>\n",
       "      <th>pet_category</th>\n",
       "      <th>nf1_pet_id</th>\n",
       "      <th>nf2_pet_id</th>\n",
       "      <th>Waiting_time(M)</th>\n",
       "      <th>issue_dt_month</th>\n",
       "      <th>listing_dt_month</th>\n",
       "    </tr>\n",
       "  </thead>\n",
       "  <tbody>\n",
       "    <tr>\n",
       "      <th>1504</th>\n",
       "      <td>ANSL_52243</td>\n",
       "      <td>2018-01-17</td>\n",
       "      <td>2018-01-14</td>\n",
       "      <td>2.0</td>\n",
       "      <td>Orange Tabby</td>\n",
       "      <td>0.72</td>\n",
       "      <td>43.19</td>\n",
       "      <td>13</td>\n",
       "      <td>9</td>\n",
       "      <td>0.0</td>\n",
       "      <td>1</td>\n",
       "      <td>ANSL_5</td>\n",
       "      <td>ANSL_52</td>\n",
       "      <td>-0.1</td>\n",
       "      <td>1</td>\n",
       "      <td>1</td>\n",
       "    </tr>\n",
       "    <tr>\n",
       "      <th>5301</th>\n",
       "      <td>ANSL_63737</td>\n",
       "      <td>2016-11-18</td>\n",
       "      <td>2016-09-03</td>\n",
       "      <td>0.0</td>\n",
       "      <td>Black</td>\n",
       "      <td>0.88</td>\n",
       "      <td>27.82</td>\n",
       "      <td>0</td>\n",
       "      <td>1</td>\n",
       "      <td>1.0</td>\n",
       "      <td>1</td>\n",
       "      <td>ANSL_6</td>\n",
       "      <td>ANSL_63</td>\n",
       "      <td>-2.5</td>\n",
       "      <td>11</td>\n",
       "      <td>9</td>\n",
       "    </tr>\n",
       "  </tbody>\n",
       "</table>\n",
       "</div>"
      ],
      "text/plain": [
       "          pet_id issue_date listing_date  condition    color_type  length(m)  \\\n",
       "1504  ANSL_52243 2018-01-17   2018-01-14        2.0  Orange Tabby       0.72   \n",
       "5301  ANSL_63737 2016-11-18   2016-09-03        0.0         Black       0.88   \n",
       "\n",
       "      height(cm)  X1  X2  breed_category  pet_category nf1_pet_id nf2_pet_id  \\\n",
       "1504       43.19  13   9             0.0             1     ANSL_5    ANSL_52   \n",
       "5301       27.82   0   1             1.0             1     ANSL_6    ANSL_63   \n",
       "\n",
       "      Waiting_time(M)  issue_dt_month  listing_dt_month  \n",
       "1504             -0.1               1                 1  \n",
       "5301             -2.5              11                 9  "
      ]
     },
     "execution_count": 16,
     "metadata": {},
     "output_type": "execute_result"
    }
   ],
   "source": [
    "train[train['Waiting_time(M)'] < 0]"
   ]
  },
  {
   "cell_type": "markdown",
   "metadata": {},
   "source": [
    "As we know that the waiting time cannot be negative , we are gonna drop these rows"
   ]
  },
  {
   "cell_type": "code",
   "execution_count": 17,
   "metadata": {},
   "outputs": [
    {
     "data": {
      "text/plain": [
       "(18832, 16)"
      ]
     },
     "execution_count": 17,
     "metadata": {},
     "output_type": "execute_result"
    }
   ],
   "source": [
    "train = train.drop(train[train['Waiting_time(M)'] < 0].index)\n",
    "train.shape"
   ]
  },
  {
   "cell_type": "markdown",
   "metadata": {},
   "source": [
    "### Analyzing the \"Length(m)\" feature"
   ]
  },
  {
   "cell_type": "code",
   "execution_count": 18,
   "metadata": {},
   "outputs": [
    {
     "data": {
      "text/plain": [
       "0.0    93\n",
       "Name: length(m), dtype: int64"
      ]
     },
     "execution_count": 18,
     "metadata": {},
     "output_type": "execute_result"
    }
   ],
   "source": [
    "train[train['length(m)'] == 0]['length(m)'].value_counts()"
   ]
  },
  {
   "cell_type": "code",
   "execution_count": 19,
   "metadata": {},
   "outputs": [
    {
     "data": {
      "text/plain": [
       "<matplotlib.axes._subplots.AxesSubplot at 0x145f6a48>"
      ]
     },
     "execution_count": 19,
     "metadata": {},
     "output_type": "execute_result"
    },
    {
     "data": {
      "image/png": "[encoded data removed]",
      "text/plain": [
       "<Figure size 864x288 with 2 Axes>"
      ]
     },
     "metadata": {
      "needs_background": "light"
     },
     "output_type": "display_data"
    }
   ],
   "source": [
    "f, axes = plt.subplots(ncols=2, figsize=(12,4))\n",
    "sns.distplot(train['length(m)'],ax=axes[0])\n",
    "sns.boxplot(train['length(m)'],ax=axes[1])"
   ]
  },
  {
   "cell_type": "markdown",
   "metadata": {},
   "source": [
    "From the above graphs we observe that few values are very less and actually zero.\n",
    "\n",
    "After research in the google, the smallest pet is around 10 cm length it might be more than that but as we are not sure of the pet category except dog and cat , for this problem we will conider the length data for the pet more than 10cm is __anomaly__"
   ]
  },
  {
   "cell_type": "code",
   "execution_count": 20,
   "metadata": {},
   "outputs": [],
   "source": [
    "# Converting length from 'm' to 'cm'\n",
    "\n",
    "train['length(cm)'] = train['length(m)']*100\n",
    "\n",
    "# Replacing values less than 10 cm with the mean value\n",
    "\n",
    "for value in train['length(cm)']:\n",
    "    if (value < 10):\n",
    "        train['length(cm)'] = train['length(cm)'].replace(value, np.round(train['length(cm)'].mean()))"
   ]
  },
  {
   "cell_type": "code",
   "execution_count": 21,
   "metadata": {},
   "outputs": [],
   "source": [
    "#Creating a new feature from lenght and height as ratio\n",
    "train['ratio_len_height'] = train['length(cm)']/train['height(cm)']"
   ]
  },
  {
   "cell_type": "markdown",
   "metadata": {},
   "source": [
    "### Creating new features from the \"color_type\" feature\n",
    "Color_type feature has few key words like Tabby,brindle,tiger,etc which are categorized to one specific pet."
   ]
  },
  {
   "cell_type": "code",
   "execution_count": 22,
   "metadata": {},
   "outputs": [
    {
     "data": {
      "text/plain": [
       "array(['Brown Tabby', 'White', 'Brown', 'Black', 'Red', 'Tricolor',\n",
       "       'Calico', 'Brown Brindle', 'Blue', 'Tortie', 'Gray', 'Fawn',\n",
       "       'Buff', 'Torbie', 'Orange Tabby', 'Sable', 'Tan', 'Blue Tick',\n",
       "       'Orange', 'Blue Tabby', 'Chocolate', 'Black Tabby',\n",
       "       'Black Brindle', 'Cream Tabby', 'Gold', 'Calico Point',\n",
       "       'Blue Merle', 'Red Merle', 'Yellow', 'Lynx Point', 'Blue Cream',\n",
       "       'Flame Point', 'Cream', 'Yellow Brindle', 'Blue Tiger',\n",
       "       'Seal Point', 'Red Tick', 'Brown Merle', 'Black Smoke',\n",
       "       'Gray Tabby', 'Green', 'Tortie Point', 'Blue Smoke', 'Apricot',\n",
       "       'Blue Point', 'Silver Tabby', 'Lilac Point', 'Silver',\n",
       "       'Brown Tiger', 'Liver', 'Agouti', 'Chocolate Point', 'Liver Tick',\n",
       "       'Pink', 'Black Tiger', 'Silver Lynx Point'], dtype=object)"
      ]
     },
     "execution_count": 22,
     "metadata": {},
     "output_type": "execute_result"
    }
   ],
   "source": [
    "train['color_type'].unique()"
   ]
  },
  {
   "cell_type": "code",
   "execution_count": 23,
   "metadata": {},
   "outputs": [],
   "source": [
    "train['color_type1'] = train['color_type']\n",
    "train['color_type2'] = train['color_type']"
   ]
  },
  {
   "cell_type": "markdown",
   "metadata": {},
   "source": [
    "Splitting the colour_type variable into two features which gives more information to predict the output"
   ]
  },
  {
   "cell_type": "code",
   "execution_count": 24,
   "metadata": {},
   "outputs": [],
   "source": [
    "list = ['Brown','Blue','Black','Cream','Red','Calico','Yellow','Gray','Silver','Chocolate','Orange','Liver']\n",
    "for val in train['color_type']:\n",
    "    if (val.split()[0] in list) & (len(val.split())>1):     \n",
    "        train['color_type1'] = train['color_type1'].replace(val,val.split()[0])\n",
    "        train['color_type2'] = train['color_type2'].replace(val,val.split()[1])\n",
    "        "
   ]
  },
  {
   "cell_type": "markdown",
   "metadata": {},
   "source": [
    "## Feature enginneering and missing value imputation on the *test data* same as train"
   ]
  },
  {
   "cell_type": "code",
   "execution_count": 24,
   "metadata": {},
   "outputs": [],
   "source": [
    "test['condition'].fillna(99,inplace = True)"
   ]
  },
  {
   "cell_type": "code",
   "execution_count": 25,
   "metadata": {},
   "outputs": [],
   "source": [
    "test['nf1_pet_id'] = test['pet_id'].str[:6]\n",
    "test['nf2_pet_id'] = test['pet_id'].str[:7]"
   ]
  },
  {
   "cell_type": "code",
   "execution_count": 26,
   "metadata": {},
   "outputs": [],
   "source": [
    "test['issue_date'] = pd.to_datetime(test['issue_date']).apply(lambda x: x.date())\n",
    "test['listing_date'] = pd.to_datetime(test['listing_date']).apply(lambda x: x.date())\n",
    "test['Waiting_time(M)'] = (test['listing_date']- test['issue_date'])/np.timedelta64(1,'M')\n",
    "test['Waiting_time(M)'] = np.round(test['Waiting_time(M)'],2)\n"
   ]
  },
  {
   "cell_type": "code",
   "execution_count": 27,
   "metadata": {},
   "outputs": [],
   "source": [
    "# Also creating new features from the issue date and listing date by converting their format into months\n",
    "test['issue_date'] = pd.to_datetime(test['issue_date'])\n",
    "test['issue_dt_month'] = test['issue_date'].dt.month\n",
    "test['listing_date'] = pd.to_datetime(test['listing_date'])\n",
    "test['listing_dt_month'] = test['listing_date'].dt.month"
   ]
  },
  {
   "cell_type": "code",
   "execution_count": 28,
   "metadata": {},
   "outputs": [],
   "source": [
    "test = test.drop(test[test['Waiting_time(M)'] < 0].index)"
   ]
  },
  {
   "cell_type": "code",
   "execution_count": 29,
   "metadata": {},
   "outputs": [],
   "source": [
    "test['length(cm)'] = test['length(m)']*100\n",
    "\n",
    "# Replacing values less than 10 cm with the mean value\n",
    "\n",
    "for value in test['length(cm)']:\n",
    "    if (value < 10):\n",
    "        test['length(cm)'] = test['length(cm)'].replace(value, np.round(test['length(cm)'].mean()))"
   ]
  },
  {
   "cell_type": "code",
   "execution_count": 30,
   "metadata": {},
   "outputs": [],
   "source": [
    "test['ratio_len_height'] = test['length(cm)']/test['height(cm)']"
   ]
  },
  {
   "cell_type": "code",
   "execution_count": 31,
   "metadata": {},
   "outputs": [],
   "source": [
    "test['color_type1'] = test['color_type']\n",
    "test['color_type2'] = test['color_type']"
   ]
  },
  {
   "cell_type": "code",
   "execution_count": 32,
   "metadata": {},
   "outputs": [],
   "source": [
    "list = ['Brown','Blue','Black','Cream','Red','Calico','Yellow','Gray','Silver','Chocolate','Orange','Liver']\n",
    "for val in test['color_type']:\n",
    "    if (val.split()[0] in list) & (len(val.split())>1):     \n",
    "        test['color_type1'] = test['color_type1'].replace(val,val.split()[0])\n",
    "        test['color_type2'] = test['color_type2'].replace(val,val.split()[1])\n",
    "        "
   ]
  },
  {
   "cell_type": "code",
   "execution_count": 33,
   "metadata": {},
   "outputs": [
    {
     "data": {
      "text/plain": [
       "<matplotlib.axes._subplots.AxesSubplot at 0x121da8c8>"
      ]
     },
     "execution_count": 33,
     "metadata": {},
     "output_type": "execute_result"
    },
    {
     "data": {
      "image/png": "[encoded data removed]",
      "text/plain": [
       "<Figure size 1152x576 with 2 Axes>"
      ]
     },
     "metadata": {
      "needs_background": "light"
     },
     "output_type": "display_data"
    }
   ],
   "source": [
    "plt.subplots(figsize=(16,8))\n",
    "sns.heatmap(train.corr(), annot= True)"
   ]
  },
  {
   "cell_type": "markdown",
   "metadata": {},
   "source": [
    "### Summary:\n",
    "\n",
    "- Missing value imputation done by replacing the nan with 99\n",
    "- created 2 new features from apla numeric column pet_id\n",
    "- Created new features from the date columns 'issue_date' & 'listing_date'\n",
    "- Checked the anomaly with the date columns and dropped the rows\n",
    "- Converted the length column from 'm' to 'cm' and replaced values less than 10cm with the mean value\n",
    "- Created new feature from length and height columns\n",
    "- Created 2 color_type columns by splitting the values \n",
    "\n",
    "\n",
    "### To do in modelling\n",
    "- Cross validation\n",
    "- Standardizing the categorical variables\n",
    "- Use onehot encoding on the categorical variables\n",
    "- Droping the columns\n",
    "- Fit the data to a hypertuned model with target value as 'pet_category'\n",
    "- Create another hypertuned model with the values from previous model and predict 'breed_category' feature"
   ]
  },
  {
   "cell_type": "markdown",
   "metadata": {},
   "source": [
    "### Creating X & y variables"
   ]
  },
  {
   "cell_type": "code",
   "execution_count": 34,
   "metadata": {},
   "outputs": [],
   "source": [
    "X1 = train.drop(['breed_category','pet_category'], axis=1)\n",
    "y1 = train['pet_category']\n",
    "X2 = train.drop(['breed_category'], axis=1)\n",
    "y2 = train['breed_category']"
   ]
  },
  {
   "cell_type": "code",
   "execution_count": 35,
   "metadata": {},
   "outputs": [
    {
     "name": "stdout",
     "output_type": "stream",
     "text": [
      "(18832, 18)\n",
      "(18832,)\n"
     ]
    },
    {
     "data": {
      "text/html": [
       "<div>\n",
       "<style scoped>\n",
       "    .dataframe tbody tr th:only-of-type {\n",
       "        vertical-align: middle;\n",
       "    }\n",
       "\n",
       "    .dataframe tbody tr th {\n",
       "        vertical-align: top;\n",
       "    }\n",
       "\n",
       "    .dataframe thead th {\n",
       "        text-align: right;\n",
       "    }\n",
       "</style>\n",
       "<table border=\"1\" class=\"dataframe\">\n",
       "  <thead>\n",
       "    <tr style=\"text-align: right;\">\n",
       "      <th></th>\n",
       "      <th>pet_id</th>\n",
       "      <th>issue_date</th>\n",
       "      <th>listing_date</th>\n",
       "      <th>condition</th>\n",
       "      <th>color_type</th>\n",
       "      <th>length(m)</th>\n",
       "      <th>height(cm)</th>\n",
       "      <th>X1</th>\n",
       "      <th>X2</th>\n",
       "      <th>nf1_pet_id</th>\n",
       "      <th>nf2_pet_id</th>\n",
       "      <th>Waiting_time(M)</th>\n",
       "      <th>issue_dt_month</th>\n",
       "      <th>listing_dt_month</th>\n",
       "      <th>length(cm)</th>\n",
       "      <th>ratio_len_height</th>\n",
       "      <th>color_type1</th>\n",
       "      <th>color_type2</th>\n",
       "    </tr>\n",
       "  </thead>\n",
       "  <tbody>\n",
       "    <tr>\n",
       "      <th>0</th>\n",
       "      <td>ANSL_69903</td>\n",
       "      <td>2016-07-10</td>\n",
       "      <td>2016-09-21</td>\n",
       "      <td>2.0</td>\n",
       "      <td>Brown Tabby</td>\n",
       "      <td>0.80</td>\n",
       "      <td>7.78</td>\n",
       "      <td>13</td>\n",
       "      <td>9</td>\n",
       "      <td>ANSL_6</td>\n",
       "      <td>ANSL_69</td>\n",
       "      <td>2.40</td>\n",
       "      <td>7</td>\n",
       "      <td>9</td>\n",
       "      <td>80.0</td>\n",
       "      <td>10.282776</td>\n",
       "      <td>Brown</td>\n",
       "      <td>Tabby</td>\n",
       "    </tr>\n",
       "    <tr>\n",
       "      <th>1</th>\n",
       "      <td>ANSL_66892</td>\n",
       "      <td>2013-11-21</td>\n",
       "      <td>2018-12-27</td>\n",
       "      <td>1.0</td>\n",
       "      <td>White</td>\n",
       "      <td>0.72</td>\n",
       "      <td>14.19</td>\n",
       "      <td>13</td>\n",
       "      <td>9</td>\n",
       "      <td>ANSL_6</td>\n",
       "      <td>ANSL_66</td>\n",
       "      <td>61.18</td>\n",
       "      <td>11</td>\n",
       "      <td>12</td>\n",
       "      <td>72.0</td>\n",
       "      <td>5.073996</td>\n",
       "      <td>White</td>\n",
       "      <td>White</td>\n",
       "    </tr>\n",
       "    <tr>\n",
       "      <th>2</th>\n",
       "      <td>ANSL_69750</td>\n",
       "      <td>2014-09-28</td>\n",
       "      <td>2016-10-19</td>\n",
       "      <td>99.0</td>\n",
       "      <td>Brown</td>\n",
       "      <td>0.15</td>\n",
       "      <td>40.90</td>\n",
       "      <td>15</td>\n",
       "      <td>4</td>\n",
       "      <td>ANSL_6</td>\n",
       "      <td>ANSL_69</td>\n",
       "      <td>24.71</td>\n",
       "      <td>9</td>\n",
       "      <td>10</td>\n",
       "      <td>15.0</td>\n",
       "      <td>0.366748</td>\n",
       "      <td>Brown</td>\n",
       "      <td>Brown</td>\n",
       "    </tr>\n",
       "    <tr>\n",
       "      <th>3</th>\n",
       "      <td>ANSL_71623</td>\n",
       "      <td>2016-12-31</td>\n",
       "      <td>2019-01-25</td>\n",
       "      <td>1.0</td>\n",
       "      <td>White</td>\n",
       "      <td>0.62</td>\n",
       "      <td>17.82</td>\n",
       "      <td>0</td>\n",
       "      <td>1</td>\n",
       "      <td>ANSL_7</td>\n",
       "      <td>ANSL_71</td>\n",
       "      <td>24.81</td>\n",
       "      <td>12</td>\n",
       "      <td>1</td>\n",
       "      <td>62.0</td>\n",
       "      <td>3.479237</td>\n",
       "      <td>White</td>\n",
       "      <td>White</td>\n",
       "    </tr>\n",
       "    <tr>\n",
       "      <th>4</th>\n",
       "      <td>ANSL_57969</td>\n",
       "      <td>2017-09-28</td>\n",
       "      <td>2017-11-19</td>\n",
       "      <td>2.0</td>\n",
       "      <td>Black</td>\n",
       "      <td>0.50</td>\n",
       "      <td>11.06</td>\n",
       "      <td>18</td>\n",
       "      <td>4</td>\n",
       "      <td>ANSL_5</td>\n",
       "      <td>ANSL_57</td>\n",
       "      <td>1.71</td>\n",
       "      <td>9</td>\n",
       "      <td>11</td>\n",
       "      <td>50.0</td>\n",
       "      <td>4.520796</td>\n",
       "      <td>Black</td>\n",
       "      <td>Black</td>\n",
       "    </tr>\n",
       "  </tbody>\n",
       "</table>\n",
       "</div>"
      ],
      "text/plain": [
       "       pet_id issue_date listing_date  condition   color_type  length(m)  \\\n",
       "0  ANSL_69903 2016-07-10   2016-09-21        2.0  Brown Tabby       0.80   \n",
       "1  ANSL_66892 2013-11-21   2018-12-27        1.0        White       0.72   \n",
       "2  ANSL_69750 2014-09-28   2016-10-19       99.0        Brown       0.15   \n",
       "3  ANSL_71623 2016-12-31   2019-01-25        1.0        White       0.62   \n",
       "4  ANSL_57969 2017-09-28   2017-11-19        2.0        Black       0.50   \n",
       "\n",
       "   height(cm)  X1  X2 nf1_pet_id nf2_pet_id  Waiting_time(M)  issue_dt_month  \\\n",
       "0        7.78  13   9     ANSL_6    ANSL_69             2.40               7   \n",
       "1       14.19  13   9     ANSL_6    ANSL_66            61.18              11   \n",
       "2       40.90  15   4     ANSL_6    ANSL_69            24.71               9   \n",
       "3       17.82   0   1     ANSL_7    ANSL_71            24.81              12   \n",
       "4       11.06  18   4     ANSL_5    ANSL_57             1.71               9   \n",
       "\n",
       "   listing_dt_month  length(cm)  ratio_len_height color_type1 color_type2  \n",
       "0                 9        80.0         10.282776       Brown       Tabby  \n",
       "1                12        72.0          5.073996       White       White  \n",
       "2                10        15.0          0.366748       Brown       Brown  \n",
       "3                 1        62.0          3.479237       White       White  \n",
       "4                11        50.0          4.520796       Black       Black  "
      ]
     },
     "execution_count": 35,
     "metadata": {},
     "output_type": "execute_result"
    }
   ],
   "source": [
    "print(X1.shape)\n",
    "print(y1.shape)\n",
    "X1.head()"
   ]
  },
  {
   "cell_type": "markdown",
   "metadata": {},
   "source": [
    "### Model 1 "
   ]
  },
  {
   "cell_type": "code",
   "execution_count": 36,
   "metadata": {},
   "outputs": [
    {
     "name": "stdout",
     "output_type": "stream",
     "text": [
      "Train size : (14124, 18) (14124,)\n",
      "Test size : (4708, 18) (4708,)\n"
     ]
    }
   ],
   "source": [
    "from sklearn.model_selection import train_test_split,cross_val_score\n",
    "X_train1, X_test1, y_train1,y_test1 = train_test_split(X1,y1,test_size = 0.25, random_state = 42,stratify = y1)\n",
    "print(\"Train size :\" ,X_train1.shape,y_train1.shape)\n",
    "print(\"Test size :\"  ,X_test1.shape, y_test1.shape)"
   ]
  },
  {
   "cell_type": "code",
   "execution_count": 37,
   "metadata": {},
   "outputs": [
    {
     "data": {
      "text/html": [
       "<div>\n",
       "<style scoped>\n",
       "    .dataframe tbody tr th:only-of-type {\n",
       "        vertical-align: middle;\n",
       "    }\n",
       "\n",
       "    .dataframe tbody tr th {\n",
       "        vertical-align: top;\n",
       "    }\n",
       "\n",
       "    .dataframe thead th {\n",
       "        text-align: right;\n",
       "    }\n",
       "</style>\n",
       "<table border=\"1\" class=\"dataframe\">\n",
       "  <thead>\n",
       "    <tr style=\"text-align: right;\">\n",
       "      <th></th>\n",
       "      <th>pet_id</th>\n",
       "      <th>issue_date</th>\n",
       "      <th>listing_date</th>\n",
       "      <th>condition</th>\n",
       "      <th>color_type</th>\n",
       "      <th>length(m)</th>\n",
       "      <th>height(cm)</th>\n",
       "      <th>X1</th>\n",
       "      <th>X2</th>\n",
       "      <th>nf1_pet_id</th>\n",
       "      <th>nf2_pet_id</th>\n",
       "      <th>Waiting_time(M)</th>\n",
       "      <th>issue_dt_month</th>\n",
       "      <th>listing_dt_month</th>\n",
       "      <th>length(cm)</th>\n",
       "      <th>ratio_len_height</th>\n",
       "      <th>color_type1</th>\n",
       "      <th>color_type2</th>\n",
       "    </tr>\n",
       "  </thead>\n",
       "  <tbody>\n",
       "    <tr>\n",
       "      <th>12872</th>\n",
       "      <td>ANSL_75136</td>\n",
       "      <td>2016-03-07</td>\n",
       "      <td>2019-03-27</td>\n",
       "      <td>2.0</td>\n",
       "      <td>Tan</td>\n",
       "      <td>0.97</td>\n",
       "      <td>48.81</td>\n",
       "      <td>0</td>\n",
       "      <td>7</td>\n",
       "      <td>ANSL_7</td>\n",
       "      <td>ANSL_75</td>\n",
       "      <td>36.63</td>\n",
       "      <td>3</td>\n",
       "      <td>3</td>\n",
       "      <td>97.0</td>\n",
       "      <td>1.987298</td>\n",
       "      <td>Tan</td>\n",
       "      <td>Tan</td>\n",
       "    </tr>\n",
       "    <tr>\n",
       "      <th>6982</th>\n",
       "      <td>ANSL_63101</td>\n",
       "      <td>2011-11-03</td>\n",
       "      <td>2017-11-24</td>\n",
       "      <td>1.0</td>\n",
       "      <td>White</td>\n",
       "      <td>0.42</td>\n",
       "      <td>42.37</td>\n",
       "      <td>0</td>\n",
       "      <td>7</td>\n",
       "      <td>ANSL_6</td>\n",
       "      <td>ANSL_63</td>\n",
       "      <td>72.71</td>\n",
       "      <td>11</td>\n",
       "      <td>11</td>\n",
       "      <td>42.0</td>\n",
       "      <td>0.991267</td>\n",
       "      <td>White</td>\n",
       "      <td>White</td>\n",
       "    </tr>\n",
       "    <tr>\n",
       "      <th>6398</th>\n",
       "      <td>ANSL_58252</td>\n",
       "      <td>2017-05-27</td>\n",
       "      <td>2017-08-13</td>\n",
       "      <td>2.0</td>\n",
       "      <td>Cream Tabby</td>\n",
       "      <td>0.43</td>\n",
       "      <td>35.09</td>\n",
       "      <td>0</td>\n",
       "      <td>1</td>\n",
       "      <td>ANSL_5</td>\n",
       "      <td>ANSL_58</td>\n",
       "      <td>2.56</td>\n",
       "      <td>5</td>\n",
       "      <td>8</td>\n",
       "      <td>43.0</td>\n",
       "      <td>1.225420</td>\n",
       "      <td>Cream</td>\n",
       "      <td>Tabby</td>\n",
       "    </tr>\n",
       "    <tr>\n",
       "      <th>14018</th>\n",
       "      <td>ANSL_75197</td>\n",
       "      <td>2014-11-01</td>\n",
       "      <td>2016-11-23</td>\n",
       "      <td>2.0</td>\n",
       "      <td>Brown Tabby</td>\n",
       "      <td>0.74</td>\n",
       "      <td>46.37</td>\n",
       "      <td>16</td>\n",
       "      <td>9</td>\n",
       "      <td>ANSL_7</td>\n",
       "      <td>ANSL_75</td>\n",
       "      <td>24.74</td>\n",
       "      <td>11</td>\n",
       "      <td>11</td>\n",
       "      <td>74.0</td>\n",
       "      <td>1.595859</td>\n",
       "      <td>Brown</td>\n",
       "      <td>Tabby</td>\n",
       "    </tr>\n",
       "    <tr>\n",
       "      <th>8946</th>\n",
       "      <td>ANSL_73710</td>\n",
       "      <td>2016-05-02</td>\n",
       "      <td>2017-01-22</td>\n",
       "      <td>2.0</td>\n",
       "      <td>Brown</td>\n",
       "      <td>1.00</td>\n",
       "      <td>36.53</td>\n",
       "      <td>0</td>\n",
       "      <td>7</td>\n",
       "      <td>ANSL_7</td>\n",
       "      <td>ANSL_73</td>\n",
       "      <td>8.71</td>\n",
       "      <td>5</td>\n",
       "      <td>1</td>\n",
       "      <td>100.0</td>\n",
       "      <td>2.737476</td>\n",
       "      <td>Brown</td>\n",
       "      <td>Brown</td>\n",
       "    </tr>\n",
       "  </tbody>\n",
       "</table>\n",
       "</div>"
      ],
      "text/plain": [
       "           pet_id issue_date listing_date  condition   color_type  length(m)  \\\n",
       "12872  ANSL_75136 2016-03-07   2019-03-27        2.0          Tan       0.97   \n",
       "6982   ANSL_63101 2011-11-03   2017-11-24        1.0        White       0.42   \n",
       "6398   ANSL_58252 2017-05-27   2017-08-13        2.0  Cream Tabby       0.43   \n",
       "14018  ANSL_75197 2014-11-01   2016-11-23        2.0  Brown Tabby       0.74   \n",
       "8946   ANSL_73710 2016-05-02   2017-01-22        2.0        Brown       1.00   \n",
       "\n",
       "       height(cm)  X1  X2 nf1_pet_id nf2_pet_id  Waiting_time(M)  \\\n",
       "12872       48.81   0   7     ANSL_7    ANSL_75            36.63   \n",
       "6982        42.37   0   7     ANSL_6    ANSL_63            72.71   \n",
       "6398        35.09   0   1     ANSL_5    ANSL_58             2.56   \n",
       "14018       46.37  16   9     ANSL_7    ANSL_75            24.74   \n",
       "8946        36.53   0   7     ANSL_7    ANSL_73             8.71   \n",
       "\n",
       "       issue_dt_month  listing_dt_month  length(cm)  ratio_len_height  \\\n",
       "12872               3                 3        97.0          1.987298   \n",
       "6982               11                11        42.0          0.991267   \n",
       "6398                5                 8        43.0          1.225420   \n",
       "14018              11                11        74.0          1.595859   \n",
       "8946                5                 1       100.0          2.737476   \n",
       "\n",
       "      color_type1 color_type2  \n",
       "12872         Tan         Tan  \n",
       "6982        White       White  \n",
       "6398        Cream       Tabby  \n",
       "14018       Brown       Tabby  \n",
       "8946        Brown       Brown  "
      ]
     },
     "execution_count": 37,
     "metadata": {},
     "output_type": "execute_result"
    }
   ],
   "source": [
    "X_train1.head()"
   ]
  },
  {
   "cell_type": "markdown",
   "metadata": {},
   "source": [
    "The features for the model is selected using feature selection of univariate features by Annova method"
   ]
  },
  {
   "cell_type": "code",
   "execution_count": 38,
   "metadata": {},
   "outputs": [],
   "source": [
    "numerical_features1 = ['Waiting_time(M)','ratio_len_height']\n",
    "numerical_features2 = ['X1','X2']\n",
    "categorical_features = ['condition','nf1_pet_id','issue_dt_month','listing_dt_month','color_type1','color_type2']"
   ]
  },
  {
   "cell_type": "markdown",
   "metadata": {},
   "source": [
    "### Building custom Transformer \n",
    "\n",
    "- scaling on numerical_featuures1\n",
    "- Normalizing on numerical_features2\n",
    "- onehotencoding on the categorical features\n",
    "- dropping the columns not important for model"
   ]
  },
  {
   "cell_type": "code",
   "execution_count": 39,
   "metadata": {},
   "outputs": [],
   "source": [
    "numeric_transformer1 = Pipeline(steps=[\n",
    "    ('scaler', RobustScaler())\n",
    "])\n",
    "\n",
    "numeric_transformer2 = Pipeline(steps=[\n",
    "    ('normalizer',MinMaxScaler())\n",
    "])\n",
    "\n",
    "category_transformer = Pipeline(steps=[\n",
    "    ('onehot', OneHotEncoder(handle_unknown='ignore'))  \n",
    "])\n"
   ]
  },
  {
   "cell_type": "code",
   "execution_count": 40,
   "metadata": {},
   "outputs": [],
   "source": [
    "from sklearn.compose import ColumnTransformer\n",
    "\n",
    "preprocessor = ColumnTransformer(\n",
    "    transformers = [\n",
    "        ('drop_columns', 'drop', ['pet_id','issue_date','listing_date','length(m)','color_type','nf2_pet_id','length(cm)','height(cm)',]),\n",
    "        ('numeric1', numeric_transformer1,numerical_features1),\n",
    "        ('numeric2', numeric_transformer2,numerical_features2),\n",
    "        ('category', category_transformer, categorical_features)\n",
    "])"
   ]
  },
  {
   "cell_type": "markdown",
   "metadata": {},
   "source": [
    "### Fitting the transform operations on train and transforming on train and test"
   ]
  },
  {
   "cell_type": "code",
   "execution_count": 41,
   "metadata": {},
   "outputs": [
    {
     "data": {
      "text/plain": [
       "ColumnTransformer(transformers=[('drop_columns', 'drop',\n",
       "                                 ['pet_id', 'issue_date', 'listing_date',\n",
       "                                  'length(m)', 'color_type', 'nf2_pet_id',\n",
       "                                  'length(cm)', 'height(cm)']),\n",
       "                                ('numeric1',\n",
       "                                 Pipeline(steps=[('scaler', RobustScaler())]),\n",
       "                                 ['Waiting_time(M)', 'ratio_len_height']),\n",
       "                                ('numeric2',\n",
       "                                 Pipeline(steps=[('normalizer',\n",
       "                                                  MinMaxScaler())]),\n",
       "                                 ['X1', 'X2']),\n",
       "                                ('category',\n",
       "                                 Pipeline(steps=[('onehot',\n",
       "                                                  OneHotEncoder(handle_unknown='ignore'))]),\n",
       "                                 ['condition', 'nf1_pet_id', 'issue_dt_month',\n",
       "                                  'listing_dt_month', 'color_type1',\n",
       "                                  'color_type2'])])"
      ]
     },
     "execution_count": 41,
     "metadata": {},
     "output_type": "execute_result"
    }
   ],
   "source": [
    "preprocessor.fit(X_train1)"
   ]
  },
  {
   "cell_type": "code",
   "execution_count": 42,
   "metadata": {},
   "outputs": [],
   "source": [
    "X_train1 = preprocessor.transform(X_train1)\n",
    "X_test1 = preprocessor.transform(X_test1)"
   ]
  },
  {
   "cell_type": "code",
   "execution_count": 43,
   "metadata": {},
   "outputs": [
    {
     "data": {
      "text/plain": [
       "(14124, 104)"
      ]
     },
     "execution_count": 43,
     "metadata": {},
     "output_type": "execute_result"
    }
   ],
   "source": [
    "X_train1.shape"
   ]
  },
  {
   "cell_type": "markdown",
   "metadata": {},
   "source": [
    "### Xgboost"
   ]
  },
  {
   "cell_type": "code",
   "execution_count": 44,
   "metadata": {},
   "outputs": [
    {
     "name": "stdout",
     "output_type": "stream",
     "text": [
      "0.9084208351982886\n"
     ]
    }
   ],
   "source": [
    "import xgboost as xgb\n",
    "from sklearn.metrics import f1_score\n",
    "xgb_model = xgb.XGBClassifier(scale_pos_weight = 0.7,\n",
    "min_child_weight=  3,\n",
    "learning_rate = 0.3,\n",
    "gamma = 0.4,\n",
    "colsample_bytree = 0.5, random_state = 42)\n",
    "xgb_model.fit(X_train1, y_train1)\n",
    "y_pred_xgb = xgb_model.predict(X_test1)\n",
    "\n",
    "s1 = f1_score(y_test1,y_pred_xgb,average = 'weighted')\n",
    "print(s1)"
   ]
  },
  {
   "cell_type": "markdown",
   "metadata": {},
   "source": [
    "### Hyper tuning the parameters for the best result:\n",
    "\n",
    "Best parameters in this case :\n",
    "(scale_pos_weight = 0.7,\n",
    "min_child_weight=  3,\n",
    "learning_rate = 0.3,\n",
    "gamma = 0.4,\n",
    "colsample_bytree = 0.5)\n"
   ]
  },
  {
   "cell_type": "raw",
   "metadata": {},
   "source": [
    "xgb_model = xgb.XGBClassifier( )\n",
    "from sklearn.model_selection import RandomizedSearchCV\n",
    "rs = RandomizedSearchCV(xgb_model, {\n",
    "        'scale_pos_weight': [0.7],\n",
    "        'learning_rate'   : [0.30],\n",
    "        'min_child_weight': [3],\n",
    "        'gamma'           : [0.1,0.2,0.3,0.4],\n",
    "        'colsample_bytree': [0.4,0.5]\n",
    "    }, \n",
    "    cv=5, \n",
    "    scoring = 'f1_weighted',\n",
    "    return_train_score=False, \n",
    "    n_iter=50\n",
    ")\n",
    "rs.fit(X_train1, y_train1)"
   ]
  },
  {
   "cell_type": "raw",
   "metadata": {},
   "source": [
    "rs.best_params_"
   ]
  },
  {
   "cell_type": "markdown",
   "metadata": {},
   "source": [
    "### Applying the transformer on the test data and predicting the target variable 'pet_category'"
   ]
  },
  {
   "cell_type": "code",
   "execution_count": 45,
   "metadata": {},
   "outputs": [],
   "source": [
    "test1 = test\n",
    "test1 = preprocessor.transform(test1)"
   ]
  },
  {
   "cell_type": "code",
   "execution_count": 46,
   "metadata": {},
   "outputs": [],
   "source": [
    "X1 = preprocessor.transform(X1)"
   ]
  },
  {
   "cell_type": "code",
   "execution_count": 47,
   "metadata": {},
   "outputs": [],
   "source": [
    "xgb_model = xgb.XGBClassifier(scale_pos_weight = 0.7,\n",
    "min_child_weight=  3,\n",
    "learning_rate = 0.3,\n",
    "gamma = 0.4,\n",
    "colsample_bytree = 0.5)\n",
    "xgb_model.fit(X1, y1)\n",
    "prediction1 = xgb_model.predict(test1)\n"
   ]
  },
  {
   "cell_type": "code",
   "execution_count": 48,
   "metadata": {},
   "outputs": [],
   "source": [
    "predicted_values1 = pd.DataFrame(prediction1, columns = ['pet_category'])"
   ]
  },
  {
   "cell_type": "code",
   "execution_count": 49,
   "metadata": {},
   "outputs": [
    {
     "data": {
      "text/html": [
       "<div>\n",
       "<style scoped>\n",
       "    .dataframe tbody tr th:only-of-type {\n",
       "        vertical-align: middle;\n",
       "    }\n",
       "\n",
       "    .dataframe tbody tr th {\n",
       "        vertical-align: top;\n",
       "    }\n",
       "\n",
       "    .dataframe thead th {\n",
       "        text-align: right;\n",
       "    }\n",
       "</style>\n",
       "<table border=\"1\" class=\"dataframe\">\n",
       "  <thead>\n",
       "    <tr style=\"text-align: right;\">\n",
       "      <th></th>\n",
       "      <th>pet_category</th>\n",
       "    </tr>\n",
       "  </thead>\n",
       "  <tbody>\n",
       "    <tr>\n",
       "      <th>0</th>\n",
       "      <td>2</td>\n",
       "    </tr>\n",
       "    <tr>\n",
       "      <th>1</th>\n",
       "      <td>1</td>\n",
       "    </tr>\n",
       "    <tr>\n",
       "      <th>2</th>\n",
       "      <td>2</td>\n",
       "    </tr>\n",
       "    <tr>\n",
       "      <th>3</th>\n",
       "      <td>2</td>\n",
       "    </tr>\n",
       "    <tr>\n",
       "      <th>4</th>\n",
       "      <td>2</td>\n",
       "    </tr>\n",
       "    <tr>\n",
       "      <th>...</th>\n",
       "      <td>...</td>\n",
       "    </tr>\n",
       "    <tr>\n",
       "      <th>8067</th>\n",
       "      <td>2</td>\n",
       "    </tr>\n",
       "    <tr>\n",
       "      <th>8068</th>\n",
       "      <td>2</td>\n",
       "    </tr>\n",
       "    <tr>\n",
       "      <th>8069</th>\n",
       "      <td>2</td>\n",
       "    </tr>\n",
       "    <tr>\n",
       "      <th>8070</th>\n",
       "      <td>4</td>\n",
       "    </tr>\n",
       "    <tr>\n",
       "      <th>8071</th>\n",
       "      <td>2</td>\n",
       "    </tr>\n",
       "  </tbody>\n",
       "</table>\n",
       "<p>8072 rows × 1 columns</p>\n",
       "</div>"
      ],
      "text/plain": [
       "      pet_category\n",
       "0                2\n",
       "1                1\n",
       "2                2\n",
       "3                2\n",
       "4                2\n",
       "...            ...\n",
       "8067             2\n",
       "8068             2\n",
       "8069             2\n",
       "8070             4\n",
       "8071             2\n",
       "\n",
       "[8072 rows x 1 columns]"
      ]
     },
     "execution_count": 49,
     "metadata": {},
     "output_type": "execute_result"
    }
   ],
   "source": [
    "predicted_values1"
   ]
  },
  {
   "cell_type": "markdown",
   "metadata": {},
   "source": [
    "### Model 2 "
   ]
  },
  {
   "cell_type": "code",
   "execution_count": 50,
   "metadata": {},
   "outputs": [
    {
     "name": "stdout",
     "output_type": "stream",
     "text": [
      "Train size : (14124, 19) (14124,)\n",
      "Test size : (4708, 19) (4708,)\n"
     ]
    }
   ],
   "source": [
    "from sklearn.model_selection import train_test_split\n",
    "X_train2, X_test2, y_train2,y_test2 = train_test_split(X2,y2,test_size = 0.25, random_state = 42, stratify = y2)\n",
    "print(\"Train size :\" ,X_train2.shape,y_train2.shape)\n",
    "print(\"Test size :\"  ,X_test2.shape, y_test2.shape)"
   ]
  },
  {
   "cell_type": "code",
   "execution_count": 51,
   "metadata": {},
   "outputs": [
    {
     "data": {
      "text/html": [
       "<div>\n",
       "<style scoped>\n",
       "    .dataframe tbody tr th:only-of-type {\n",
       "        vertical-align: middle;\n",
       "    }\n",
       "\n",
       "    .dataframe tbody tr th {\n",
       "        vertical-align: top;\n",
       "    }\n",
       "\n",
       "    .dataframe thead th {\n",
       "        text-align: right;\n",
       "    }\n",
       "</style>\n",
       "<table border=\"1\" class=\"dataframe\">\n",
       "  <thead>\n",
       "    <tr style=\"text-align: right;\">\n",
       "      <th></th>\n",
       "      <th>pet_id</th>\n",
       "      <th>issue_date</th>\n",
       "      <th>listing_date</th>\n",
       "      <th>condition</th>\n",
       "      <th>color_type</th>\n",
       "      <th>length(m)</th>\n",
       "      <th>height(cm)</th>\n",
       "      <th>X1</th>\n",
       "      <th>X2</th>\n",
       "      <th>pet_category</th>\n",
       "      <th>nf1_pet_id</th>\n",
       "      <th>nf2_pet_id</th>\n",
       "      <th>Waiting_time(M)</th>\n",
       "      <th>issue_dt_month</th>\n",
       "      <th>listing_dt_month</th>\n",
       "      <th>length(cm)</th>\n",
       "      <th>ratio_len_height</th>\n",
       "      <th>color_type1</th>\n",
       "      <th>color_type2</th>\n",
       "    </tr>\n",
       "  </thead>\n",
       "  <tbody>\n",
       "    <tr>\n",
       "      <th>18776</th>\n",
       "      <td>ANSL_52947</td>\n",
       "      <td>2008-12-20</td>\n",
       "      <td>2018-05-21</td>\n",
       "      <td>1.0</td>\n",
       "      <td>Brown</td>\n",
       "      <td>0.69</td>\n",
       "      <td>20.88</td>\n",
       "      <td>7</td>\n",
       "      <td>1</td>\n",
       "      <td>2</td>\n",
       "      <td>ANSL_5</td>\n",
       "      <td>ANSL_52</td>\n",
       "      <td>112.99</td>\n",
       "      <td>12</td>\n",
       "      <td>5</td>\n",
       "      <td>69.0</td>\n",
       "      <td>3.304598</td>\n",
       "      <td>Brown</td>\n",
       "      <td>Brown</td>\n",
       "    </tr>\n",
       "    <tr>\n",
       "      <th>11881</th>\n",
       "      <td>ANSL_53011</td>\n",
       "      <td>2018-06-12</td>\n",
       "      <td>2019-02-14</td>\n",
       "      <td>1.0</td>\n",
       "      <td>Black</td>\n",
       "      <td>0.52</td>\n",
       "      <td>48.00</td>\n",
       "      <td>0</td>\n",
       "      <td>1</td>\n",
       "      <td>1</td>\n",
       "      <td>ANSL_5</td>\n",
       "      <td>ANSL_53</td>\n",
       "      <td>8.12</td>\n",
       "      <td>6</td>\n",
       "      <td>2</td>\n",
       "      <td>52.0</td>\n",
       "      <td>1.083333</td>\n",
       "      <td>Black</td>\n",
       "      <td>Black</td>\n",
       "    </tr>\n",
       "  </tbody>\n",
       "</table>\n",
       "</div>"
      ],
      "text/plain": [
       "           pet_id issue_date listing_date  condition color_type  length(m)  \\\n",
       "18776  ANSL_52947 2008-12-20   2018-05-21        1.0      Brown       0.69   \n",
       "11881  ANSL_53011 2018-06-12   2019-02-14        1.0      Black       0.52   \n",
       "\n",
       "       height(cm)  X1  X2  pet_category nf1_pet_id nf2_pet_id  \\\n",
       "18776       20.88   7   1             2     ANSL_5    ANSL_52   \n",
       "11881       48.00   0   1             1     ANSL_5    ANSL_53   \n",
       "\n",
       "       Waiting_time(M)  issue_dt_month  listing_dt_month  length(cm)  \\\n",
       "18776           112.99              12                 5        69.0   \n",
       "11881             8.12               6                 2        52.0   \n",
       "\n",
       "       ratio_len_height color_type1 color_type2  \n",
       "18776          3.304598       Brown       Brown  \n",
       "11881          1.083333       Black       Black  "
      ]
     },
     "execution_count": 51,
     "metadata": {},
     "output_type": "execute_result"
    }
   ],
   "source": [
    "X_train2.head(2)"
   ]
  },
  {
   "cell_type": "code",
   "execution_count": 52,
   "metadata": {},
   "outputs": [],
   "source": [
    "numerical_features3 = ['Waiting_time(M)','length(cm)','height(cm)']\n",
    "numerical_features4= ['X1','X2']\n",
    "categorical_features1 = ['condition','color_type1','color_type2','pet_category','listing_dt_month']#,'nf1_pet_id','nf2_pet_id','issue_dt_month',,'listing_dt_month'\n"
   ]
  },
  {
   "cell_type": "markdown",
   "metadata": {},
   "source": [
    "### Building custom Transformer \n",
    "\n",
    "- scaling on numerical_featuures1\n",
    "- Normalizing on numerical_features2\n",
    "- onehotencoding on the categorical features\n",
    "- dropping the columns not important for model"
   ]
  },
  {
   "cell_type": "code",
   "execution_count": 53,
   "metadata": {},
   "outputs": [],
   "source": [
    "numeric_transformer3 = Pipeline(steps=[\n",
    "    ('scaler1', RobustScaler())\n",
    "])\n",
    "\n",
    "numeric_transformer4 = Pipeline(steps=[\n",
    "    ('normalizer1',MinMaxScaler())\n",
    "])\n",
    "\n",
    "category_transformer1 = Pipeline(steps=[\n",
    "    ('onehot1', OneHotEncoder(handle_unknown='ignore'))  \n",
    "])\n",
    "\n",
    "\n",
    "from sklearn.compose import ColumnTransformer\n",
    "\n",
    "preprocessor1 = ColumnTransformer(\n",
    "    transformers = [\n",
    "        ('drop_columns', 'drop', ['pet_id','issue_date','listing_date','length(m)','color_type','nf1_pet_id','nf2_pet_id','issue_dt_month']),#,'issue_dt_month','nf2_pet_id','nf1_pet_id'\n",
    "        ('numeric3', numeric_transformer3,numerical_features3),\n",
    "        ('numeric4', numeric_transformer4,numerical_features4),\n",
    "        ('category', category_transformer1, categorical_features1)\n",
    "\n",
    "])"
   ]
  },
  {
   "cell_type": "markdown",
   "metadata": {},
   "source": [
    "### Fitting the transform operations on train and transforming on train and test"
   ]
  },
  {
   "cell_type": "code",
   "execution_count": 54,
   "metadata": {},
   "outputs": [
    {
     "data": {
      "text/plain": [
       "ColumnTransformer(transformers=[('drop_columns', 'drop',\n",
       "                                 ['pet_id', 'issue_date', 'listing_date',\n",
       "                                  'length(m)', 'color_type', 'nf1_pet_id',\n",
       "                                  'nf2_pet_id', 'issue_dt_month']),\n",
       "                                ('numeric3',\n",
       "                                 Pipeline(steps=[('scaler1', RobustScaler())]),\n",
       "                                 ['Waiting_time(M)', 'length(cm)',\n",
       "                                  'height(cm)']),\n",
       "                                ('numeric4',\n",
       "                                 Pipeline(steps=[('normalizer1',\n",
       "                                                  MinMaxScaler())]),\n",
       "                                 ['X1', 'X2']),\n",
       "                                ('category',\n",
       "                                 Pipeline(steps=[('onehot1',\n",
       "                                                  OneHotEncoder(handle_unknown='ignore'))]),\n",
       "                                 ['condition', 'color_type1', 'color_type2',\n",
       "                                  'pet_category', 'listing_dt_month'])])"
      ]
     },
     "execution_count": 54,
     "metadata": {},
     "output_type": "execute_result"
    }
   ],
   "source": [
    "preprocessor1.fit(X_train2)"
   ]
  },
  {
   "cell_type": "code",
   "execution_count": 55,
   "metadata": {},
   "outputs": [],
   "source": [
    "X_train2 = preprocessor1.transform(X_train2)\n",
    "X_test2 = preprocessor1.transform(X_test2)"
   ]
  },
  {
   "cell_type": "markdown",
   "metadata": {},
   "source": [
    "### Xgboost"
   ]
  },
  {
   "cell_type": "code",
   "execution_count": 56,
   "metadata": {},
   "outputs": [
    {
     "name": "stdout",
     "output_type": "stream",
     "text": [
      "0.906196841800934\n"
     ]
    }
   ],
   "source": [
    "import xgboost as xgb\n",
    "xgb_model2 = xgb.XGBClassifier(scale_pos_weight = 8,\n",
    " min_child_weight = 1,\n",
    " learning_rate = 0.01,\n",
    " gamma= 0.3,\n",
    " colsample_bytree = 0.3, \n",
    " random_state = 42)\n",
    "xgb_model2.fit(X_train2, y_train2)\n",
    "y_pred_xgb2= xgb_model2.predict(X_test2)\n",
    "\n",
    "s2 = f1_score(y_test2,y_pred_xgb2,average = 'weighted')\n",
    "print(s2)"
   ]
  },
  {
   "cell_type": "code",
   "execution_count": 57,
   "metadata": {},
   "outputs": [
    {
     "name": "stdout",
     "output_type": "stream",
     "text": [
      "final_score on the train set 90.73088384996113\n"
     ]
    }
   ],
   "source": [
    "score = (s1+s2) * 100/2\n",
    "print('final_score on the train set',score)"
   ]
  },
  {
   "cell_type": "markdown",
   "metadata": {},
   "source": [
    "### Hyper tuning the parameters for the best result for Model2 :\n",
    "scale_pos_weight = 8,\n",
    " min_child_weight = 1,\n",
    " learning_rate = 0.01,\n",
    " gamma= 0.3,\n",
    " colsample_bytree = 0.3"
   ]
  },
  {
   "cell_type": "raw",
   "metadata": {},
   "source": [
    "xgb_model = xgb.XGBClassifier( )\n",
    "from sklearn.model_selection import RandomizedSearchCV\n",
    "rs = RandomizedSearchCV(xgb_model, {\n",
    "        'scale_pos_weight': [0.1, 0.5, 0.7, 1,3,5,8,10],\n",
    "        'learning_rate'   : [0.05,0.10,0.15,0.20,0.25,0.30],\n",
    "        'min_child_weight': [1,3,5,7],\n",
    "        'gamma'           : [0.0,0.1,0.2,0.3,0.4],\n",
    "        'colsample_bytree': [0.3,0.4,0.5,0.7]\n",
    "    }, \n",
    "    cv=5, \n",
    "    scoring = 'f1_weighted',\n",
    "    return_train_score=False, \n",
    "    n_iter=50\n",
    ")\n",
    "rs.fit(X_train2, y_train2)"
   ]
  },
  {
   "cell_type": "raw",
   "metadata": {},
   "source": [
    "rs.best_params_"
   ]
  },
  {
   "cell_type": "code",
   "execution_count": 58,
   "metadata": {},
   "outputs": [],
   "source": [
    "### Applying the transformer on the test data and predicting the target variable 'breed_category'"
   ]
  },
  {
   "cell_type": "code",
   "execution_count": 59,
   "metadata": {},
   "outputs": [],
   "source": [
    "X2_1 = X2.pop('pet_category')\n",
    "X2['pet_category'] = X2_1 # to have the pet_category at the last same as test data \n",
    "preprocessor1.fit(X2)\n",
    "X2 = preprocessor1.transform(X2)"
   ]
  },
  {
   "cell_type": "code",
   "execution_count": 60,
   "metadata": {},
   "outputs": [],
   "source": [
    "test2 = test\n",
    "test2['pet_category'] = predicted_values1['pet_category']\n"
   ]
  },
  {
   "cell_type": "code",
   "execution_count": 61,
   "metadata": {},
   "outputs": [
    {
     "data": {
      "text/html": [
       "<div>\n",
       "<style scoped>\n",
       "    .dataframe tbody tr th:only-of-type {\n",
       "        vertical-align: middle;\n",
       "    }\n",
       "\n",
       "    .dataframe tbody tr th {\n",
       "        vertical-align: top;\n",
       "    }\n",
       "\n",
       "    .dataframe thead th {\n",
       "        text-align: right;\n",
       "    }\n",
       "</style>\n",
       "<table border=\"1\" class=\"dataframe\">\n",
       "  <thead>\n",
       "    <tr style=\"text-align: right;\">\n",
       "      <th></th>\n",
       "      <th>pet_id</th>\n",
       "      <th>issue_date</th>\n",
       "      <th>listing_date</th>\n",
       "      <th>condition</th>\n",
       "      <th>color_type</th>\n",
       "      <th>length(m)</th>\n",
       "      <th>height(cm)</th>\n",
       "      <th>X1</th>\n",
       "      <th>X2</th>\n",
       "      <th>nf1_pet_id</th>\n",
       "      <th>nf2_pet_id</th>\n",
       "      <th>Waiting_time(M)</th>\n",
       "      <th>issue_dt_month</th>\n",
       "      <th>listing_dt_month</th>\n",
       "      <th>length(cm)</th>\n",
       "      <th>ratio_len_height</th>\n",
       "      <th>color_type1</th>\n",
       "      <th>color_type2</th>\n",
       "      <th>pet_category</th>\n",
       "    </tr>\n",
       "  </thead>\n",
       "  <tbody>\n",
       "    <tr>\n",
       "      <th>0</th>\n",
       "      <td>ANSL_75005</td>\n",
       "      <td>2005-08-17</td>\n",
       "      <td>2017-09-07</td>\n",
       "      <td>0.0</td>\n",
       "      <td>Black</td>\n",
       "      <td>0.87</td>\n",
       "      <td>42.73</td>\n",
       "      <td>0</td>\n",
       "      <td>7</td>\n",
       "      <td>ANSL_7</td>\n",
       "      <td>ANSL_75</td>\n",
       "      <td>144.69</td>\n",
       "      <td>8</td>\n",
       "      <td>9</td>\n",
       "      <td>87.0</td>\n",
       "      <td>2.036040</td>\n",
       "      <td>Black</td>\n",
       "      <td>Black</td>\n",
       "      <td>2</td>\n",
       "    </tr>\n",
       "    <tr>\n",
       "      <th>1</th>\n",
       "      <td>ANSL_76663</td>\n",
       "      <td>2018-11-15</td>\n",
       "      <td>2019-05-08</td>\n",
       "      <td>1.0</td>\n",
       "      <td>Orange Tabby</td>\n",
       "      <td>0.06</td>\n",
       "      <td>6.71</td>\n",
       "      <td>0</td>\n",
       "      <td>1</td>\n",
       "      <td>ANSL_7</td>\n",
       "      <td>ANSL_76</td>\n",
       "      <td>5.72</td>\n",
       "      <td>11</td>\n",
       "      <td>5</td>\n",
       "      <td>51.0</td>\n",
       "      <td>7.600596</td>\n",
       "      <td>Orange</td>\n",
       "      <td>Tabby</td>\n",
       "      <td>1</td>\n",
       "    </tr>\n",
       "  </tbody>\n",
       "</table>\n",
       "</div>"
      ],
      "text/plain": [
       "       pet_id issue_date listing_date  condition    color_type  length(m)  \\\n",
       "0  ANSL_75005 2005-08-17   2017-09-07        0.0         Black       0.87   \n",
       "1  ANSL_76663 2018-11-15   2019-05-08        1.0  Orange Tabby       0.06   \n",
       "\n",
       "   height(cm)  X1  X2 nf1_pet_id nf2_pet_id  Waiting_time(M)  issue_dt_month  \\\n",
       "0       42.73   0   7     ANSL_7    ANSL_75           144.69               8   \n",
       "1        6.71   0   1     ANSL_7    ANSL_76             5.72              11   \n",
       "\n",
       "   listing_dt_month  length(cm)  ratio_len_height color_type1 color_type2  \\\n",
       "0                 9        87.0          2.036040       Black       Black   \n",
       "1                 5        51.0          7.600596      Orange       Tabby   \n",
       "\n",
       "   pet_category  \n",
       "0             2  \n",
       "1             1  "
      ]
     },
     "execution_count": 61,
     "metadata": {},
     "output_type": "execute_result"
    }
   ],
   "source": [
    "test2.head(2)"
   ]
  },
  {
   "cell_type": "code",
   "execution_count": 62,
   "metadata": {},
   "outputs": [],
   "source": [
    "test2 = preprocessor1.transform(test2)"
   ]
  },
  {
   "cell_type": "code",
   "execution_count": 63,
   "metadata": {},
   "outputs": [],
   "source": [
    "xgb_model2 = xgb.XGBClassifier(scale_pos_weight = 8,\n",
    " min_child_weight = 1,\n",
    " learning_rate = 0.01,\n",
    " gamma= 0.3,\n",
    " colsample_bytree = 0.3)\n",
    "xgb_model2.fit(X2, y2)\n",
    "prediction2= xgb_model2.predict(test2)"
   ]
  },
  {
   "cell_type": "code",
   "execution_count": 64,
   "metadata": {},
   "outputs": [],
   "source": [
    "predicted_values2 = pd.DataFrame(prediction2, columns = ['breed_category'])"
   ]
  },
  {
   "cell_type": "code",
   "execution_count": 65,
   "metadata": {},
   "outputs": [
    {
     "data": {
      "text/html": [
       "<div>\n",
       "<style scoped>\n",
       "    .dataframe tbody tr th:only-of-type {\n",
       "        vertical-align: middle;\n",
       "    }\n",
       "\n",
       "    .dataframe tbody tr th {\n",
       "        vertical-align: top;\n",
       "    }\n",
       "\n",
       "    .dataframe thead th {\n",
       "        text-align: right;\n",
       "    }\n",
       "</style>\n",
       "<table border=\"1\" class=\"dataframe\">\n",
       "  <thead>\n",
       "    <tr style=\"text-align: right;\">\n",
       "      <th></th>\n",
       "      <th>breed_category</th>\n",
       "    </tr>\n",
       "  </thead>\n",
       "  <tbody>\n",
       "    <tr>\n",
       "      <th>0</th>\n",
       "      <td>1.0</td>\n",
       "    </tr>\n",
       "    <tr>\n",
       "      <th>1</th>\n",
       "      <td>0.0</td>\n",
       "    </tr>\n",
       "    <tr>\n",
       "      <th>2</th>\n",
       "      <td>0.0</td>\n",
       "    </tr>\n",
       "    <tr>\n",
       "      <th>3</th>\n",
       "      <td>0.0</td>\n",
       "    </tr>\n",
       "    <tr>\n",
       "      <th>4</th>\n",
       "      <td>0.0</td>\n",
       "    </tr>\n",
       "    <tr>\n",
       "      <th>...</th>\n",
       "      <td>...</td>\n",
       "    </tr>\n",
       "    <tr>\n",
       "      <th>8067</th>\n",
       "      <td>0.0</td>\n",
       "    </tr>\n",
       "    <tr>\n",
       "      <th>8068</th>\n",
       "      <td>1.0</td>\n",
       "    </tr>\n",
       "    <tr>\n",
       "      <th>8069</th>\n",
       "      <td>1.0</td>\n",
       "    </tr>\n",
       "    <tr>\n",
       "      <th>8070</th>\n",
       "      <td>2.0</td>\n",
       "    </tr>\n",
       "    <tr>\n",
       "      <th>8071</th>\n",
       "      <td>1.0</td>\n",
       "    </tr>\n",
       "  </tbody>\n",
       "</table>\n",
       "<p>8072 rows × 1 columns</p>\n",
       "</div>"
      ],
      "text/plain": [
       "      breed_category\n",
       "0                1.0\n",
       "1                0.0\n",
       "2                0.0\n",
       "3                0.0\n",
       "4                0.0\n",
       "...              ...\n",
       "8067             0.0\n",
       "8068             1.0\n",
       "8069             1.0\n",
       "8070             2.0\n",
       "8071             1.0\n",
       "\n",
       "[8072 rows x 1 columns]"
      ]
     },
     "execution_count": 65,
     "metadata": {},
     "output_type": "execute_result"
    }
   ],
   "source": [
    "predicted_values2"
   ]
  },
  {
   "cell_type": "markdown",
   "metadata": {},
   "source": [
    "### Submission_format"
   ]
  },
  {
   "cell_type": "code",
   "execution_count": 66,
   "metadata": {},
   "outputs": [],
   "source": [
    "output=pd.DataFrame({\"pet_id\":test[\"pet_id\"],\"breed_category\":predicted_values2['breed_category'],'pet_category':predicted_values1[\"pet_category\"]}) "
   ]
  },
  {
   "cell_type": "code",
   "execution_count": 67,
   "metadata": {},
   "outputs": [],
   "source": [
    "output.to_csv(path_or_buf=\"submission82.csv\",index=False,quoting=3)"
   ]
  },
  {
   "cell_type": "code",
   "execution_count": 68,
   "metadata": {},
   "outputs": [
    {
     "data": {
      "text/html": [
       "<div>\n",
       "<style scoped>\n",
       "    .dataframe tbody tr th:only-of-type {\n",
       "        vertical-align: middle;\n",
       "    }\n",
       "\n",
       "    .dataframe tbody tr th {\n",
       "        vertical-align: top;\n",
       "    }\n",
       "\n",
       "    .dataframe thead th {\n",
       "        text-align: right;\n",
       "    }\n",
       "</style>\n",
       "<table border=\"1\" class=\"dataframe\">\n",
       "  <thead>\n",
       "    <tr style=\"text-align: right;\">\n",
       "      <th></th>\n",
       "      <th>pet_id</th>\n",
       "      <th>breed_category</th>\n",
       "      <th>pet_category</th>\n",
       "    </tr>\n",
       "  </thead>\n",
       "  <tbody>\n",
       "    <tr>\n",
       "      <th>0</th>\n",
       "      <td>ANSL_75005</td>\n",
       "      <td>1.0</td>\n",
       "      <td>2</td>\n",
       "    </tr>\n",
       "    <tr>\n",
       "      <th>1</th>\n",
       "      <td>ANSL_76663</td>\n",
       "      <td>0.0</td>\n",
       "      <td>1</td>\n",
       "    </tr>\n",
       "    <tr>\n",
       "      <th>2</th>\n",
       "      <td>ANSL_58259</td>\n",
       "      <td>0.0</td>\n",
       "      <td>2</td>\n",
       "    </tr>\n",
       "    <tr>\n",
       "      <th>3</th>\n",
       "      <td>ANSL_67171</td>\n",
       "      <td>0.0</td>\n",
       "      <td>2</td>\n",
       "    </tr>\n",
       "    <tr>\n",
       "      <th>4</th>\n",
       "      <td>ANSL_72871</td>\n",
       "      <td>0.0</td>\n",
       "      <td>2</td>\n",
       "    </tr>\n",
       "    <tr>\n",
       "      <th>...</th>\n",
       "      <td>...</td>\n",
       "      <td>...</td>\n",
       "      <td>...</td>\n",
       "    </tr>\n",
       "    <tr>\n",
       "      <th>8067</th>\n",
       "      <td>ANSL_66809</td>\n",
       "      <td>0.0</td>\n",
       "      <td>2</td>\n",
       "    </tr>\n",
       "    <tr>\n",
       "      <th>8068</th>\n",
       "      <td>ANSL_59041</td>\n",
       "      <td>1.0</td>\n",
       "      <td>2</td>\n",
       "    </tr>\n",
       "    <tr>\n",
       "      <th>8069</th>\n",
       "      <td>ANSL_60034</td>\n",
       "      <td>1.0</td>\n",
       "      <td>2</td>\n",
       "    </tr>\n",
       "    <tr>\n",
       "      <th>8070</th>\n",
       "      <td>ANSL_58066</td>\n",
       "      <td>2.0</td>\n",
       "      <td>4</td>\n",
       "    </tr>\n",
       "    <tr>\n",
       "      <th>8071</th>\n",
       "      <td>ANSL_69436</td>\n",
       "      <td>1.0</td>\n",
       "      <td>2</td>\n",
       "    </tr>\n",
       "  </tbody>\n",
       "</table>\n",
       "<p>8072 rows × 3 columns</p>\n",
       "</div>"
      ],
      "text/plain": [
       "          pet_id  breed_category  pet_category\n",
       "0     ANSL_75005             1.0             2\n",
       "1     ANSL_76663             0.0             1\n",
       "2     ANSL_58259             0.0             2\n",
       "3     ANSL_67171             0.0             2\n",
       "4     ANSL_72871             0.0             2\n",
       "...          ...             ...           ...\n",
       "8067  ANSL_66809             0.0             2\n",
       "8068  ANSL_59041             1.0             2\n",
       "8069  ANSL_60034             1.0             2\n",
       "8070  ANSL_58066             2.0             4\n",
       "8071  ANSL_69436             1.0             2\n",
       "\n",
       "[8072 rows x 3 columns]"
      ]
     },
     "execution_count": 68,
     "metadata": {},
     "output_type": "execute_result"
    }
   ],
   "source": [
    "output"
   ]
  },
  {
   "cell_type": "markdown",
   "metadata": {},
   "source": [
    "Achieved __91.029 score__ on the __unseen test__ data using the approach of training two models.\n",
    "- Building one classification model and predicting the output.\n",
    "- Using the predicted output of 1st model as input feature to 2nd model."
   ]
  }
 ],
 "metadata": {
  "kernelspec": {
   "display_name": "Python 3",
   "language": "python",
   "name": "python3"
  },
  "language_info": {
   "codemirror_mode": {
    "name": "ipython",
    "version": 3
   },
   "file_extension": ".py",
   "mimetype": "text/x-python",
   "name": "python",
   "nbconvert_exporter": "python",
   "pygments_lexer": "ipython3",
   "version": "3.7.6"
  }
 },
 "nbformat": 4,
 "nbformat_minor": 4
}
